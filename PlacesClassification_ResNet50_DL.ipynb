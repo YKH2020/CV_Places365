{
  "nbformat": 4,
  "nbformat_minor": 0,
  "metadata": {
    "colab": {
      "provenance": []
    },
    "kernelspec": {
      "name": "python3",
      "display_name": "Python 3"
    },
    "accelerator": "GPU",
    "widgets": {
      "application/vnd.jupyter.widget-state+json": {
        "d8704712139247348134842454aba53d": {
          "model_module": "@jupyter-widgets/controls",
          "model_name": "HBoxModel",
          "state": {
            "_view_name": "HBoxView",
            "_dom_classes": [],
            "_model_name": "HBoxModel",
            "_view_module": "@jupyter-widgets/controls",
            "_model_module_version": "1.5.0",
            "_view_count": null,
            "_view_module_version": "1.5.0",
            "box_style": "",
            "layout": "IPY_MODEL_5385e6a529ee4e04a8e6fab7bbafe3e0",
            "_model_module": "@jupyter-widgets/controls",
            "children": [
              "IPY_MODEL_417418bcf8dd4fcb83d49884efe027f4",
              "IPY_MODEL_d0e6abc5afcc49ad979cb385fb46cc65"
            ]
          },
          "model_module_version": "1.5.0"
        },
        "5385e6a529ee4e04a8e6fab7bbafe3e0": {
          "model_module": "@jupyter-widgets/base",
          "model_name": "LayoutModel",
          "state": {
            "_view_name": "LayoutView",
            "grid_template_rows": null,
            "right": null,
            "justify_content": null,
            "_view_module": "@jupyter-widgets/base",
            "overflow": null,
            "_model_module_version": "1.2.0",
            "_view_count": null,
            "flex_flow": null,
            "width": null,
            "min_width": null,
            "border": null,
            "align_items": null,
            "bottom": null,
            "_model_module": "@jupyter-widgets/base",
            "top": null,
            "grid_column": null,
            "overflow_y": null,
            "overflow_x": null,
            "grid_auto_flow": null,
            "grid_area": null,
            "grid_template_columns": null,
            "flex": null,
            "_model_name": "LayoutModel",
            "justify_items": null,
            "grid_row": null,
            "max_height": null,
            "align_content": null,
            "visibility": null,
            "align_self": null,
            "height": null,
            "min_height": null,
            "padding": null,
            "grid_auto_rows": null,
            "grid_gap": null,
            "max_width": null,
            "order": null,
            "_view_module_version": "1.2.0",
            "grid_template_areas": null,
            "object_position": null,
            "object_fit": null,
            "grid_auto_columns": null,
            "margin": null,
            "display": null,
            "left": null
          },
          "model_module_version": "1.2.0"
        },
        "417418bcf8dd4fcb83d49884efe027f4": {
          "model_module": "@jupyter-widgets/controls",
          "model_name": "FloatProgressModel",
          "state": {
            "_view_name": "ProgressView",
            "style": "IPY_MODEL_58f2982f2e69446d857793b0ee3100e8",
            "_dom_classes": [],
            "description": "100%",
            "_model_name": "FloatProgressModel",
            "bar_style": "success",
            "max": 46827520,
            "_view_module": "@jupyter-widgets/controls",
            "_model_module_version": "1.5.0",
            "value": 46827520,
            "_view_count": null,
            "_view_module_version": "1.5.0",
            "orientation": "horizontal",
            "min": 0,
            "description_tooltip": null,
            "_model_module": "@jupyter-widgets/controls",
            "layout": "IPY_MODEL_51474cd820064e71a868835a41e37724"
          },
          "model_module_version": "1.5.0"
        },
        "d0e6abc5afcc49ad979cb385fb46cc65": {
          "model_module": "@jupyter-widgets/controls",
          "model_name": "HTMLModel",
          "state": {
            "_view_name": "HTMLView",
            "style": "IPY_MODEL_6ff2448acd12435e897048748ba19d66",
            "_dom_classes": [],
            "description": "",
            "_model_name": "HTMLModel",
            "placeholder": "​",
            "_view_module": "@jupyter-widgets/controls",
            "_model_module_version": "1.5.0",
            "value": " 44.7M/44.7M [00:59&lt;00:00, 783kB/s]",
            "_view_count": null,
            "_view_module_version": "1.5.0",
            "description_tooltip": null,
            "_model_module": "@jupyter-widgets/controls",
            "layout": "IPY_MODEL_6d23b47dbdba4972993e5a8caab7b3c9"
          },
          "model_module_version": "1.5.0"
        },
        "58f2982f2e69446d857793b0ee3100e8": {
          "model_module": "@jupyter-widgets/controls",
          "model_name": "ProgressStyleModel",
          "state": {
            "_view_name": "StyleView",
            "_model_name": "ProgressStyleModel",
            "description_width": "initial",
            "_view_module": "@jupyter-widgets/base",
            "_model_module_version": "1.5.0",
            "_view_count": null,
            "_view_module_version": "1.2.0",
            "bar_color": null,
            "_model_module": "@jupyter-widgets/controls"
          },
          "model_module_version": "1.5.0"
        },
        "51474cd820064e71a868835a41e37724": {
          "model_module": "@jupyter-widgets/base",
          "model_name": "LayoutModel",
          "state": {
            "_view_name": "LayoutView",
            "grid_template_rows": null,
            "right": null,
            "justify_content": null,
            "_view_module": "@jupyter-widgets/base",
            "overflow": null,
            "_model_module_version": "1.2.0",
            "_view_count": null,
            "flex_flow": null,
            "width": null,
            "min_width": null,
            "border": null,
            "align_items": null,
            "bottom": null,
            "_model_module": "@jupyter-widgets/base",
            "top": null,
            "grid_column": null,
            "overflow_y": null,
            "overflow_x": null,
            "grid_auto_flow": null,
            "grid_area": null,
            "grid_template_columns": null,
            "flex": null,
            "_model_name": "LayoutModel",
            "justify_items": null,
            "grid_row": null,
            "max_height": null,
            "align_content": null,
            "visibility": null,
            "align_self": null,
            "height": null,
            "min_height": null,
            "padding": null,
            "grid_auto_rows": null,
            "grid_gap": null,
            "max_width": null,
            "order": null,
            "_view_module_version": "1.2.0",
            "grid_template_areas": null,
            "object_position": null,
            "object_fit": null,
            "grid_auto_columns": null,
            "margin": null,
            "display": null,
            "left": null
          },
          "model_module_version": "1.2.0"
        },
        "6ff2448acd12435e897048748ba19d66": {
          "model_module": "@jupyter-widgets/controls",
          "model_name": "DescriptionStyleModel",
          "state": {
            "_view_name": "StyleView",
            "_model_name": "DescriptionStyleModel",
            "description_width": "",
            "_view_module": "@jupyter-widgets/base",
            "_model_module_version": "1.5.0",
            "_view_count": null,
            "_view_module_version": "1.2.0",
            "_model_module": "@jupyter-widgets/controls"
          },
          "model_module_version": "1.5.0"
        },
        "6d23b47dbdba4972993e5a8caab7b3c9": {
          "model_module": "@jupyter-widgets/base",
          "model_name": "LayoutModel",
          "state": {
            "_view_name": "LayoutView",
            "grid_template_rows": null,
            "right": null,
            "justify_content": null,
            "_view_module": "@jupyter-widgets/base",
            "overflow": null,
            "_model_module_version": "1.2.0",
            "_view_count": null,
            "flex_flow": null,
            "width": null,
            "min_width": null,
            "border": null,
            "align_items": null,
            "bottom": null,
            "_model_module": "@jupyter-widgets/base",
            "top": null,
            "grid_column": null,
            "overflow_y": null,
            "overflow_x": null,
            "grid_auto_flow": null,
            "grid_area": null,
            "grid_template_columns": null,
            "flex": null,
            "_model_name": "LayoutModel",
            "justify_items": null,
            "grid_row": null,
            "max_height": null,
            "align_content": null,
            "visibility": null,
            "align_self": null,
            "height": null,
            "min_height": null,
            "padding": null,
            "grid_auto_rows": null,
            "grid_gap": null,
            "max_width": null,
            "order": null,
            "_view_module_version": "1.2.0",
            "grid_template_areas": null,
            "object_position": null,
            "object_fit": null,
            "grid_auto_columns": null,
            "margin": null,
            "display": null,
            "left": null
          },
          "model_module_version": "1.2.0"
        }
      }
    }
  },
  "cells": [
    {
      "cell_type": "code",
      "metadata": {
        "id": "RxnN5xY8URls"
      },
      "source": [
        "import torchvision\n",
        "import torch.nn as nn\n",
        "import torch\n",
        "import torch.nn.functional as F\n",
        "from torchvision import transforms,models,datasets\n",
        "import matplotlib.pyplot as plt\n",
        "from PIL import Image\n",
        "import numpy as np\n",
        "from torch import optim\n",
        "device = 'cuda' if torch.cuda.is_available() else 'cpu'\n",
        "import cv2, glob, numpy as np, pandas as pd\n",
        "import matplotlib.pyplot as plt\n",
        "from glob import glob\n",
        "import torchvision.transforms as transforms\n",
        "from torch.utils.data import DataLoader, Dataset"
      ],
      "execution_count": 2,
      "outputs": []
    },
    {
      "cell_type": "code",
      "source": [
        "from google.colab import drive\n",
        "drive.mount('/content/drive')"
      ],
      "metadata": {
        "colab": {
          "base_uri": "https://localhost:8080/"
        },
        "id": "cjM12ELMi-y_",
        "outputId": "e7f96c73-40f1-4203-bec8-84f970c86268"
      },
      "execution_count": 3,
      "outputs": [
        {
          "output_type": "stream",
          "name": "stdout",
          "text": [
            "Mounted at /content/drive\n"
          ]
        }
      ]
    },
    {
      "cell_type": "code",
      "source": [
        "# Download the small Places365 dataset directly from the official link\n",
        "#!wget http://data.csail.mit.edu/places/places365/places365standard_easyformat.tar\n",
        "\n",
        "# Create a directory for the small dataset\n",
        "#!mkdir -p \"/content/drive/MyDrive/Colab Notebooks/ComputerVision_AIPI590/data/\"\n",
        "\n",
        "#!mv /content/places365standard_easyformat.tar \"/content/drive/MyDrive/Colab Notebooks/ComputerVision_AIPI590/data/\"\n",
        "\n",
        "# Extract the .tar file from the specified Google Drive path\n",
        "#!tar -xvf \"/content/drive/MyDrive/Colab Notebooks/ComputerVision_AIPI590/data/places365standard_easyformat.tar\" -C \"/content/drive/MyDrive/Colab Notebooks/ComputerVision_AIPI590/data/\""
      ],
      "metadata": {
        "colab": {
          "base_uri": "https://localhost:8080/"
        },
        "id": "vD1f_zEpoG8Q",
        "outputId": "db2a58eb-dd29-4082-c2e9-34e4749bdff2"
      },
      "execution_count": null,
      "outputs": [
        {
          "output_type": "stream",
          "name": "stdout",
          "text": [
            "--2024-09-14 17:41:51--  http://data.csail.mit.edu/places/places365/places365standard_easyformat.tar\n",
            "Resolving data.csail.mit.edu (data.csail.mit.edu)... 128.52.131.233\n",
            "Connecting to data.csail.mit.edu (data.csail.mit.edu)|128.52.131.233|:80... connected.\n",
            "HTTP request sent, awaiting response... 301 Moved Permanently\n",
            "Location: https://data.csail.mit.edu/places/places365/places365standard_easyformat.tar [following]\n",
            "--2024-09-14 17:41:51--  https://data.csail.mit.edu/places/places365/places365standard_easyformat.tar\n",
            "Connecting to data.csail.mit.edu (data.csail.mit.edu)|128.52.131.233|:443... connected.\n",
            "HTTP request sent, awaiting response... 200 OK\n",
            "Length: 26686689280 (25G) [application/x-tar]\n",
            "Saving to: ‘places365standard_easyformat.tar’\n",
            "\n",
            "places365standard_e 100%[===================>]  24.85G  46.4MB/s    in 9m 36s  \n",
            "\n",
            "2024-09-14 17:51:28 (44.2 MB/s) - ‘places365standard_easyformat.tar’ saved [26686689280/26686689280]\n",
            "\n",
            "tar: /content/places365_small: Cannot open: No such file or directory\n",
            "tar: Error is not recoverable: exiting now\n"
          ]
        }
      ]
    },
    {
      "cell_type": "code",
      "source": [
        "# Download and extract the small Places365 training dataset directly into the specified directory\n",
        "#!wget -O /content/drive/MyDrive/Colab\\ Notebooks/ComputerVision_AIPI590/data/train_256_places365standard.tar http://data.csail.mit.edu/places/places365/train_256_places365standard.tar && tar -xvf /content/drive/MyDrive/Colab\\ Notebooks/ComputerVision_AIPI590/data/train_256_places365standard.tar -C /content/drive/MyDrive/Colab\\ Notebooks/ComputerVision_AIPI590/data/\n"
      ],
      "metadata": {
        "id": "CCTIQ8UIbLfr"
      },
      "execution_count": 11,
      "outputs": []
    },
    {
      "cell_type": "code",
      "metadata": {
        "id": "R0fJMh3yVGYL",
        "outputId": "7979d025-f771-46f4-d125-2d04275ee93c",
        "colab": {
          "base_uri": "https://localhost:8080/",
          "height": 90
        }
      },
      "source": [
        "# Download the training dataset\n",
        "'''\n",
        "data_transform = transforms.Compose([\n",
        "    transforms.Resize((256, 256)),  # Resize image to 256x256\n",
        "    transforms.CenterCrop(224),     # Crop image to 224x224\n",
        "    transforms.ToTensor()#,          # Convert image to tensor\n",
        "    #transforms.Normalize(\n",
        "        #mean=[0.485, 0.456, 0.406], # Normalization values used for pretrained models\n",
        "        #std=[0.229, 0.224, 0.225])\n",
        "])\n",
        "'''\n",
        "#data_dir = '/content/drive/MyDrive/Colab Notebooks/ComputerVision_AIPI590'\n",
        "\n",
        "# Download only the training dataset\n",
        "#dataset_train = datasets.Places365(root=data_dir, split='train-standard',\n",
        "                            # download=True, transform=data_transform)"
      ],
      "execution_count": 12,
      "outputs": [
        {
          "output_type": "execute_result",
          "data": {
            "text/plain": [
              "'\\ndata_transform = transforms.Compose([\\n    transforms.Resize((256, 256)),  # Resize image to 256x256\\n    transforms.CenterCrop(224),     # Crop image to 224x224\\n    transforms.ToTensor()#,          # Convert image to tensor\\n    #transforms.Normalize(\\n        #mean=[0.485, 0.456, 0.406], # Normalization values used for pretrained models\\n        #std=[0.229, 0.224, 0.225])\\n])\\n'"
            ],
            "application/vnd.google.colaboratory.intrinsic+json": {
              "type": "string"
            }
          },
          "metadata": {},
          "execution_count": 12
        }
      ]
    },
    {
      "cell_type": "code",
      "source": [
        "#train_data_dir = './data/places365_standard/images/data/train/'\n",
        "test_data_dir = '/content/drive/MyDrive/Colab Notebooks/ComputerVision_AIPI590/data/places365_standard/val/'"
      ],
      "metadata": {
        "id": "y2ACvuO-auOv"
      },
      "execution_count": 28,
      "outputs": []
    },
    {
      "cell_type": "code",
      "metadata": {
        "id": "Zn58QOqtVIQF"
      },
      "source": [
        "class Scenes(Dataset):\n",
        "    def __init__(self, folder):\n",
        "        aquarium = glob(folder+'/aquarium/*.jpg')\n",
        "        bar = glob(folder+'/bar/*.jpg')\n",
        "        barn = glob(folder+'/barn/*.jpg')\n",
        "        bathroom = glob(folder+'/bathroom/*.jpg')\n",
        "        bedroom = glob(folder+'/bedroom/*.jpg')\n",
        "\n",
        "        self.fpaths = aquarium[:500] + bar[:500]+ barn[:500]+ bathroom[:500]+ bedroom[:500]\n",
        "        self.normalize = transforms.Normalize(mean=[0.485, 0.456, 0.406],std=[0.229, 0.224, 0.225])\n",
        "        from random import shuffle, seed; seed(10); shuffle(self.fpaths)\n",
        "        # Shuffle file paths\n",
        "        from random import shuffle, seed\n",
        "        seed(10)\n",
        "        shuffle(self.fpaths)\n",
        "\n",
        "        # Define class labels\n",
        "        self.class_to_idx = {\n",
        "            'aquarium': 0,\n",
        "            'bar': 1,\n",
        "            'barn': 2,\n",
        "            'bathroom': 3,\n",
        "            'bedroom': 4\n",
        "        }\n",
        "\n",
        "        # Assign targets based on class labels\n",
        "        self.targets = [self.class_to_idx[fpath.split('/')[-2]] for fpath in self.fpaths]\n",
        "    def __len__(self): return len(self.fpaths)\n",
        "    def __getitem__(self, ix):\n",
        "        f = self.fpaths[ix]\n",
        "        target = self.targets[ix]\n",
        "        im = (cv2.imread(f)[:,:,::-1])\n",
        "        im = cv2.resize(im, (224,224))\n",
        "        im = torch.tensor(im/255)\n",
        "        im = im.permute(2,0,1)\n",
        "        im = self.normalize(im)\n",
        "        return im.float().to(device), torch.tensor([target]).float().to(device)"
      ],
      "execution_count": 29,
      "outputs": []
    },
    {
      "cell_type": "code",
      "metadata": {
        "id": "iCKLol4UVJfL",
        "colab": {
          "base_uri": "https://localhost:8080/"
        },
        "outputId": "b819a382-8211-498e-d60b-978c3258e91a"
      },
      "source": [
        "data = Scenes(test_data_dir)\n",
        "print(len(data))\n"
      ],
      "execution_count": 30,
      "outputs": [
        {
          "output_type": "stream",
          "name": "stdout",
          "text": [
            "500\n"
          ]
        }
      ]
    },
    {
      "cell_type": "code",
      "metadata": {
        "id": "kdKbQXqeVK44",
        "outputId": "337fd120-38d5-494f-e88e-5291e33aff1d",
        "colab": {
          "base_uri": "https://localhost:8080/",
          "height": 490
        }
      },
      "source": [
        "im, label = data[300]\n",
        "plt.imshow(im.permute(1,2,0).cpu())\n",
        "print(label)"
      ],
      "execution_count": 32,
      "outputs": [
        {
          "output_type": "stream",
          "name": "stderr",
          "text": [
            "WARNING:matplotlib.image:Clipping input data to the valid range for imshow with RGB data ([0..1] for floats or [0..255] for integers).\n"
          ]
        },
        {
          "output_type": "stream",
          "name": "stdout",
          "text": [
            "tensor([3.])\n"
          ]
        },
        {
          "output_type": "display_data",
          "data": {
            "text/plain": [
              "<Figure size 640x480 with 1 Axes>"
            ],
            "image/png": "[encoded data removed]"
          },
          "metadata": {}
        }
      ]
    },
    {
      "cell_type": "code",
      "metadata": {
        "id": "tuPZzmGSVMRs"
      },
      "source": [
        "def get_model():\n",
        "    model = models.resnet18(pretrained=True)\n",
        "    for param in model.parameters():\n",
        "        param.requires_grad = False\n",
        "    model.avgpool = nn.AdaptiveAvgPool2d(output_size=(1,1))\n",
        "    model.fc = nn.Sequential(nn.Flatten(),\n",
        "    nn.Linear(512, 128),\n",
        "    nn.ReLU(),\n",
        "    nn.Dropout(0.2),\n",
        "    nn.Linear(128, 1),\n",
        "    nn.Sigmoid())\n",
        "    loss_fn = nn.BCELoss()\n",
        "    optimizer = torch.optim.Adam(model.parameters(), lr= 1e-3)\n",
        "    return model.to(device), loss_fn, optimizer"
      ],
      "execution_count": null,
      "outputs": []
    },
    {
      "cell_type": "code",
      "metadata": {
        "id": "46YL5h2kVV5x",
        "outputId": "9b14720c-bff3-4d57-8f70-a0b8e3264ddf",
        "colab": {
          "base_uri": "https://localhost:8080/",
          "height": 1000,
          "referenced_widgets": [
            "d8704712139247348134842454aba53d",
            "5385e6a529ee4e04a8e6fab7bbafe3e0",
            "417418bcf8dd4fcb83d49884efe027f4",
            "d0e6abc5afcc49ad979cb385fb46cc65",
            "58f2982f2e69446d857793b0ee3100e8",
            "51474cd820064e71a868835a41e37724",
            "6ff2448acd12435e897048748ba19d66",
            "6d23b47dbdba4972993e5a8caab7b3c9"
          ]
        }
      },
      "source": [
        "!pip install torch_summary\n",
        "from torchsummary import summary\n",
        "model, criterion, optimizer = get_model()\n",
        "summary(model, torch.zeros(1,3,224,224))"
      ],
      "execution_count": null,
      "outputs": [
        {
          "output_type": "stream",
          "text": [
            "Collecting torch_summary\n",
            "  Downloading https://files.pythonhosted.org/packages/83/49/f9db57bcad7246591b93519fd8e5166c719548c45945ef7d2fc9fcba46fb/torch_summary-1.4.3-py3-none-any.whl\n",
            "Installing collected packages: torch-summary\n",
            "Successfully installed torch-summary-1.4.3\n"
          ],
          "name": "stdout"
        },
        {
          "output_type": "stream",
          "text": [
            "Downloading: \"https://download.pytorch.org/models/resnet18-5c106cde.pth\" to /root/.cache/torch/hub/checkpoints/resnet18-5c106cde.pth\n"
          ],
          "name": "stderr"
        },
        {
          "output_type": "display_data",
          "data": {
            "application/vnd.jupyter.widget-view+json": {
              "model_id": "d8704712139247348134842454aba53d",
              "version_minor": 0,
              "version_major": 2
            },
            "text/plain": [
              "HBox(children=(FloatProgress(value=0.0, max=46827520.0), HTML(value='')))"
            ]
          },
          "metadata": {
            "tags": []
          }
        },
        {
          "output_type": "stream",
          "text": [
            "\n",
            "==========================================================================================\n",
            "Layer (type:depth-idx)                   Output Shape              Param #\n",
            "==========================================================================================\n",
            "├─Conv2d: 1-1                            [-1, 64, 112, 112]        (9,408)\n",
            "├─BatchNorm2d: 1-2                       [-1, 64, 112, 112]        (128)\n",
            "├─ReLU: 1-3                              [-1, 64, 112, 112]        --\n",
            "├─MaxPool2d: 1-4                         [-1, 64, 56, 56]          --\n",
            "├─Sequential: 1-5                        [-1, 64, 56, 56]          --\n",
            "|    └─BasicBlock: 2-1                   [-1, 64, 56, 56]          --\n",
            "|    |    └─Conv2d: 3-1                  [-1, 64, 56, 56]          (36,864)\n",
            "|    |    └─BatchNorm2d: 3-2             [-1, 64, 56, 56]          (128)\n",
            "|    |    └─ReLU: 3-3                    [-1, 64, 56, 56]          --\n",
            "|    |    └─Conv2d: 3-4                  [-1, 64, 56, 56]          (36,864)\n",
            "|    |    └─BatchNorm2d: 3-5             [-1, 64, 56, 56]          (128)\n",
            "|    |    └─ReLU: 3-6                    [-1, 64, 56, 56]          --\n",
            "|    └─BasicBlock: 2-2                   [-1, 64, 56, 56]          --\n",
            "|    |    └─Conv2d: 3-7                  [-1, 64, 56, 56]          (36,864)\n",
            "|    |    └─BatchNorm2d: 3-8             [-1, 64, 56, 56]          (128)\n",
            "|    |    └─ReLU: 3-9                    [-1, 64, 56, 56]          --\n",
            "|    |    └─Conv2d: 3-10                 [-1, 64, 56, 56]          (36,864)\n",
            "|    |    └─BatchNorm2d: 3-11            [-1, 64, 56, 56]          (128)\n",
            "|    |    └─ReLU: 3-12                   [-1, 64, 56, 56]          --\n",
            "├─Sequential: 1-6                        [-1, 128, 28, 28]         --\n",
            "|    └─BasicBlock: 2-3                   [-1, 128, 28, 28]         --\n",
            "|    |    └─Conv2d: 3-13                 [-1, 128, 28, 28]         (73,728)\n",
            "|    |    └─BatchNorm2d: 3-14            [-1, 128, 28, 28]         (256)\n",
            "|    |    └─ReLU: 3-15                   [-1, 128, 28, 28]         --\n",
            "|    |    └─Conv2d: 3-16                 [-1, 128, 28, 28]         (147,456)\n",
            "|    |    └─BatchNorm2d: 3-17            [-1, 128, 28, 28]         (256)\n",
            "|    |    └─Sequential: 3-18             [-1, 128, 28, 28]         (8,448)\n",
            "|    |    └─ReLU: 3-19                   [-1, 128, 28, 28]         --\n",
            "|    └─BasicBlock: 2-4                   [-1, 128, 28, 28]         --\n",
            "|    |    └─Conv2d: 3-20                 [-1, 128, 28, 28]         (147,456)\n",
            "|    |    └─BatchNorm2d: 3-21            [-1, 128, 28, 28]         (256)\n",
            "|    |    └─ReLU: 3-22                   [-1, 128, 28, 28]         --\n",
            "|    |    └─Conv2d: 3-23                 [-1, 128, 28, 28]         (147,456)\n",
            "|    |    └─BatchNorm2d: 3-24            [-1, 128, 28, 28]         (256)\n",
            "|    |    └─ReLU: 3-25                   [-1, 128, 28, 28]         --\n",
            "├─Sequential: 1-7                        [-1, 256, 14, 14]         --\n",
            "|    └─BasicBlock: 2-5                   [-1, 256, 14, 14]         --\n",
            "|    |    └─Conv2d: 3-26                 [-1, 256, 14, 14]         (294,912)\n",
            "|    |    └─BatchNorm2d: 3-27            [-1, 256, 14, 14]         (512)\n",
            "|    |    └─ReLU: 3-28                   [-1, 256, 14, 14]         --\n",
            "|    |    └─Conv2d: 3-29                 [-1, 256, 14, 14]         (589,824)\n",
            "|    |    └─BatchNorm2d: 3-30            [-1, 256, 14, 14]         (512)\n",
            "|    |    └─Sequential: 3-31             [-1, 256, 14, 14]         (33,280)\n",
            "|    |    └─ReLU: 3-32                   [-1, 256, 14, 14]         --\n",
            "|    └─BasicBlock: 2-6                   [-1, 256, 14, 14]         --\n",
            "|    |    └─Conv2d: 3-33                 [-1, 256, 14, 14]         (589,824)\n",
            "|    |    └─BatchNorm2d: 3-34            [-1, 256, 14, 14]         (512)\n",
            "|    |    └─ReLU: 3-35                   [-1, 256, 14, 14]         --\n",
            "|    |    └─Conv2d: 3-36                 [-1, 256, 14, 14]         (589,824)\n",
            "|    |    └─BatchNorm2d: 3-37            [-1, 256, 14, 14]         (512)\n",
            "|    |    └─ReLU: 3-38                   [-1, 256, 14, 14]         --\n",
            "├─Sequential: 1-8                        [-1, 512, 7, 7]           --\n",
            "|    └─BasicBlock: 2-7                   [-1, 512, 7, 7]           --\n",
            "|    |    └─Conv2d: 3-39                 [-1, 512, 7, 7]           (1,179,648)\n",
            "|    |    └─BatchNorm2d: 3-40            [-1, 512, 7, 7]           (1,024)\n",
            "|    |    └─ReLU: 3-41                   [-1, 512, 7, 7]           --\n",
            "|    |    └─Conv2d: 3-42                 [-1, 512, 7, 7]           (2,359,296)\n",
            "|    |    └─BatchNorm2d: 3-43            [-1, 512, 7, 7]           (1,024)\n",
            "|    |    └─Sequential: 3-44             [-1, 512, 7, 7]           (132,096)\n",
            "|    |    └─ReLU: 3-45                   [-1, 512, 7, 7]           --\n",
            "|    └─BasicBlock: 2-8                   [-1, 512, 7, 7]           --\n",
            "|    |    └─Conv2d: 3-46                 [-1, 512, 7, 7]           (2,359,296)\n",
            "|    |    └─BatchNorm2d: 3-47            [-1, 512, 7, 7]           (1,024)\n",
            "|    |    └─ReLU: 3-48                   [-1, 512, 7, 7]           --\n",
            "|    |    └─Conv2d: 3-49                 [-1, 512, 7, 7]           (2,359,296)\n",
            "|    |    └─BatchNorm2d: 3-50            [-1, 512, 7, 7]           (1,024)\n",
            "|    |    └─ReLU: 3-51                   [-1, 512, 7, 7]           --\n",
            "├─AdaptiveAvgPool2d: 1-9                 [-1, 512, 1, 1]           --\n",
            "├─Sequential: 1-10                       [-1, 1]                   --\n",
            "|    └─Flatten: 2-9                      [-1, 512]                 --\n",
            "|    └─Linear: 2-10                      [-1, 128]                 65,664\n",
            "|    └─ReLU: 2-11                        [-1, 128]                 --\n",
            "|    └─Dropout: 2-12                     [-1, 128]                 --\n",
            "|    └─Linear: 2-13                      [-1, 1]                   129\n",
            "|    └─Sigmoid: 2-14                     [-1, 1]                   --\n",
            "==========================================================================================\n",
            "Total params: 11,242,305\n",
            "Trainable params: 65,793\n",
            "Non-trainable params: 11,176,512\n",
            "Total mult-adds (G): 1.84\n",
            "==========================================================================================\n",
            "Input size (MB): 0.57\n",
            "Forward/backward pass size (MB): 37.90\n",
            "Params size (MB): 42.89\n",
            "Estimated Total Size (MB): 81.36\n",
            "==========================================================================================\n"
          ],
          "name": "stdout"
        },
        {
          "output_type": "execute_result",
          "data": {
            "text/plain": [
              "==========================================================================================\n",
              "Layer (type:depth-idx)                   Output Shape              Param #\n",
              "==========================================================================================\n",
              "├─Conv2d: 1-1                            [-1, 64, 112, 112]        (9,408)\n",
              "├─BatchNorm2d: 1-2                       [-1, 64, 112, 112]        (128)\n",
              "├─ReLU: 1-3                              [-1, 64, 112, 112]        --\n",
              "├─MaxPool2d: 1-4                         [-1, 64, 56, 56]          --\n",
              "├─Sequential: 1-5                        [-1, 64, 56, 56]          --\n",
              "|    └─BasicBlock: 2-1                   [-1, 64, 56, 56]          --\n",
              "|    |    └─Conv2d: 3-1                  [-1, 64, 56, 56]          (36,864)\n",
              "|    |    └─BatchNorm2d: 3-2             [-1, 64, 56, 56]          (128)\n",
              "|    |    └─ReLU: 3-3                    [-1, 64, 56, 56]          --\n",
              "|    |    └─Conv2d: 3-4                  [-1, 64, 56, 56]          (36,864)\n",
              "|    |    └─BatchNorm2d: 3-5             [-1, 64, 56, 56]          (128)\n",
              "|    |    └─ReLU: 3-6                    [-1, 64, 56, 56]          --\n",
              "|    └─BasicBlock: 2-2                   [-1, 64, 56, 56]          --\n",
              "|    |    └─Conv2d: 3-7                  [-1, 64, 56, 56]          (36,864)\n",
              "|    |    └─BatchNorm2d: 3-8             [-1, 64, 56, 56]          (128)\n",
              "|    |    └─ReLU: 3-9                    [-1, 64, 56, 56]          --\n",
              "|    |    └─Conv2d: 3-10                 [-1, 64, 56, 56]          (36,864)\n",
              "|    |    └─BatchNorm2d: 3-11            [-1, 64, 56, 56]          (128)\n",
              "|    |    └─ReLU: 3-12                   [-1, 64, 56, 56]          --\n",
              "├─Sequential: 1-6                        [-1, 128, 28, 28]         --\n",
              "|    └─BasicBlock: 2-3                   [-1, 128, 28, 28]         --\n",
              "|    |    └─Conv2d: 3-13                 [-1, 128, 28, 28]         (73,728)\n",
              "|    |    └─BatchNorm2d: 3-14            [-1, 128, 28, 28]         (256)\n",
              "|    |    └─ReLU: 3-15                   [-1, 128, 28, 28]         --\n",
              "|    |    └─Conv2d: 3-16                 [-1, 128, 28, 28]         (147,456)\n",
              "|    |    └─BatchNorm2d: 3-17            [-1, 128, 28, 28]         (256)\n",
              "|    |    └─Sequential: 3-18             [-1, 128, 28, 28]         (8,448)\n",
              "|    |    └─ReLU: 3-19                   [-1, 128, 28, 28]         --\n",
              "|    └─BasicBlock: 2-4                   [-1, 128, 28, 28]         --\n",
              "|    |    └─Conv2d: 3-20                 [-1, 128, 28, 28]         (147,456)\n",
              "|    |    └─BatchNorm2d: 3-21            [-1, 128, 28, 28]         (256)\n",
              "|    |    └─ReLU: 3-22                   [-1, 128, 28, 28]         --\n",
              "|    |    └─Conv2d: 3-23                 [-1, 128, 28, 28]         (147,456)\n",
              "|    |    └─BatchNorm2d: 3-24            [-1, 128, 28, 28]         (256)\n",
              "|    |    └─ReLU: 3-25                   [-1, 128, 28, 28]         --\n",
              "├─Sequential: 1-7                        [-1, 256, 14, 14]         --\n",
              "|    └─BasicBlock: 2-5                   [-1, 256, 14, 14]         --\n",
              "|    |    └─Conv2d: 3-26                 [-1, 256, 14, 14]         (294,912)\n",
              "|    |    └─BatchNorm2d: 3-27            [-1, 256, 14, 14]         (512)\n",
              "|    |    └─ReLU: 3-28                   [-1, 256, 14, 14]         --\n",
              "|    |    └─Conv2d: 3-29                 [-1, 256, 14, 14]         (589,824)\n",
              "|    |    └─BatchNorm2d: 3-30            [-1, 256, 14, 14]         (512)\n",
              "|    |    └─Sequential: 3-31             [-1, 256, 14, 14]         (33,280)\n",
              "|    |    └─ReLU: 3-32                   [-1, 256, 14, 14]         --\n",
              "|    └─BasicBlock: 2-6                   [-1, 256, 14, 14]         --\n",
              "|    |    └─Conv2d: 3-33                 [-1, 256, 14, 14]         (589,824)\n",
              "|    |    └─BatchNorm2d: 3-34            [-1, 256, 14, 14]         (512)\n",
              "|    |    └─ReLU: 3-35                   [-1, 256, 14, 14]         --\n",
              "|    |    └─Conv2d: 3-36                 [-1, 256, 14, 14]         (589,824)\n",
              "|    |    └─BatchNorm2d: 3-37            [-1, 256, 14, 14]         (512)\n",
              "|    |    └─ReLU: 3-38                   [-1, 256, 14, 14]         --\n",
              "├─Sequential: 1-8                        [-1, 512, 7, 7]           --\n",
              "|    └─BasicBlock: 2-7                   [-1, 512, 7, 7]           --\n",
              "|    |    └─Conv2d: 3-39                 [-1, 512, 7, 7]           (1,179,648)\n",
              "|    |    └─BatchNorm2d: 3-40            [-1, 512, 7, 7]           (1,024)\n",
              "|    |    └─ReLU: 3-41                   [-1, 512, 7, 7]           --\n",
              "|    |    └─Conv2d: 3-42                 [-1, 512, 7, 7]           (2,359,296)\n",
              "|    |    └─BatchNorm2d: 3-43            [-1, 512, 7, 7]           (1,024)\n",
              "|    |    └─Sequential: 3-44             [-1, 512, 7, 7]           (132,096)\n",
              "|    |    └─ReLU: 3-45                   [-1, 512, 7, 7]           --\n",
              "|    └─BasicBlock: 2-8                   [-1, 512, 7, 7]           --\n",
              "|    |    └─Conv2d: 3-46                 [-1, 512, 7, 7]           (2,359,296)\n",
              "|    |    └─BatchNorm2d: 3-47            [-1, 512, 7, 7]           (1,024)\n",
              "|    |    └─ReLU: 3-48                   [-1, 512, 7, 7]           --\n",
              "|    |    └─Conv2d: 3-49                 [-1, 512, 7, 7]           (2,359,296)\n",
              "|    |    └─BatchNorm2d: 3-50            [-1, 512, 7, 7]           (1,024)\n",
              "|    |    └─ReLU: 3-51                   [-1, 512, 7, 7]           --\n",
              "├─AdaptiveAvgPool2d: 1-9                 [-1, 512, 1, 1]           --\n",
              "├─Sequential: 1-10                       [-1, 1]                   --\n",
              "|    └─Flatten: 2-9                      [-1, 512]                 --\n",
              "|    └─Linear: 2-10                      [-1, 128]                 65,664\n",
              "|    └─ReLU: 2-11                        [-1, 128]                 --\n",
              "|    └─Dropout: 2-12                     [-1, 128]                 --\n",
              "|    └─Linear: 2-13                      [-1, 1]                   129\n",
              "|    └─Sigmoid: 2-14                     [-1, 1]                   --\n",
              "==========================================================================================\n",
              "Total params: 11,242,305\n",
              "Trainable params: 65,793\n",
              "Non-trainable params: 11,176,512\n",
              "Total mult-adds (G): 1.84\n",
              "==========================================================================================\n",
              "Input size (MB): 0.57\n",
              "Forward/backward pass size (MB): 37.90\n",
              "Params size (MB): 42.89\n",
              "Estimated Total Size (MB): 81.36\n",
              "=========================================================================================="
            ]
          },
          "metadata": {
            "tags": []
          },
          "execution_count": 9
        }
      ]
    },
    {
      "cell_type": "code",
      "metadata": {
        "id": "VhYQpEvlVXQ2"
      },
      "source": [
        "def train_batch(x, y, model, opt, loss_fn):\n",
        "    model.train()\n",
        "    prediction = model(x)\n",
        "    batch_loss = loss_fn(prediction, y)\n",
        "    batch_loss.backward()\n",
        "    optimizer.step()\n",
        "    optimizer.zero_grad()\n",
        "    return batch_loss.item()"
      ],
      "execution_count": null,
      "outputs": []
    },
    {
      "cell_type": "code",
      "metadata": {
        "id": "Wv9gwjoFVc1h"
      },
      "source": [
        "@torch.no_grad()\n",
        "def accuracy(x, y, model):\n",
        "    model.eval()\n",
        "    prediction = model(x)\n",
        "    is_correct = (prediction > 0.5) == y\n",
        "    return is_correct.cpu().numpy().tolist()"
      ],
      "execution_count": null,
      "outputs": []
    },
    {
      "cell_type": "code",
      "metadata": {
        "id": "bk6dJ-NdVei5"
      },
      "source": [
        "def get_data():\n",
        "    train = CatsDogs(train_data_dir)\n",
        "    trn_dl = DataLoader(train, batch_size=32, shuffle=True, drop_last = True)\n",
        "    val = CatsDogs(test_data_dir)\n",
        "    val_dl = DataLoader(val, batch_size=32, shuffle=True, drop_last = True)\n",
        "    return trn_dl, val_dl"
      ],
      "execution_count": null,
      "outputs": []
    },
    {
      "cell_type": "code",
      "metadata": {
        "id": "VnnlvFy2Vf-3"
      },
      "source": [
        "trn_dl, val_dl = get_data()\n",
        "model, loss_fn, optimizer = get_model()"
      ],
      "execution_count": null,
      "outputs": []
    },
    {
      "cell_type": "code",
      "metadata": {
        "id": "R12q-Z1SVhOD",
        "outputId": "23e6340c-fb73-46a0-ee2c-b2ce3b0610f8",
        "colab": {
          "base_uri": "https://localhost:8080/",
          "height": 108
        }
      },
      "source": [
        "train_losses, train_accuracies = [], []\n",
        "val_accuracies = []\n",
        "for epoch in range(5):\n",
        "    print(f\" epoch {epoch + 1}/5\")\n",
        "    train_epoch_losses, train_epoch_accuracies = [], []\n",
        "    val_epoch_accuracies = []\n",
        "\n",
        "    for ix, batch in enumerate(iter(trn_dl)):\n",
        "        x, y = batch\n",
        "        batch_loss = train_batch(x, y, model, optimizer, loss_fn)\n",
        "        train_epoch_losses.append(batch_loss)\n",
        "    train_epoch_loss = np.array(train_epoch_losses).mean()\n",
        "\n",
        "    for ix, batch in enumerate(iter(trn_dl)):\n",
        "        x, y = batch\n",
        "        is_correct = accuracy(x, y, model)\n",
        "        train_epoch_accuracies.extend(is_correct)\n",
        "    train_epoch_accuracy = np.mean(train_epoch_accuracies)\n",
        "\n",
        "    for ix, batch in enumerate(iter(val_dl)):\n",
        "        x, y = batch\n",
        "        val_is_correct = accuracy(x, y, model)\n",
        "        val_epoch_accuracies.extend(val_is_correct)\n",
        "    val_epoch_accuracy = np.mean(val_epoch_accuracies)\n",
        "\n",
        "    train_losses.append(train_epoch_loss)\n",
        "    train_accuracies.append(train_epoch_accuracy)\n",
        "    val_accuracies.append(val_epoch_accuracy)"
      ],
      "execution_count": null,
      "outputs": [
        {
          "output_type": "stream",
          "text": [
            " epoch 1/5\n",
            " epoch 2/5\n",
            " epoch 3/5\n",
            " epoch 4/5\n",
            " epoch 5/5\n"
          ],
          "name": "stdout"
        }
      ]
    },
    {
      "cell_type": "code",
      "metadata": {
        "id": "o4GszzafViQg",
        "outputId": "c7e01209-7804-49ba-de8a-f626239a4e8a",
        "colab": {
          "base_uri": "https://localhost:8080/",
          "height": 310
        }
      },
      "source": [
        "epochs = np.arange(5)+1\n",
        "import matplotlib.ticker as mtick\n",
        "import matplotlib.pyplot as plt\n",
        "import matplotlib.ticker as mticker\n",
        "%matplotlib inline\n",
        "plt.plot(epochs, train_accuracies, 'bo', label='Training accuracy')\n",
        "plt.plot(epochs, val_accuracies, 'r', label='Validation accuracy')\n",
        "plt.gca().xaxis.set_major_locator(mticker.MultipleLocator(1))\n",
        "plt.title('Training and validation accuracy with ResNet18 \\nand 1K training data points')\n",
        "plt.xlabel('Epochs')\n",
        "plt.ylabel('Accuracy')\n",
        "plt.ylim(0.95,1)\n",
        "plt.gca().set_yticklabels(['{:.0f}%'.format(x*100) for x in plt.gca().get_yticks()])\n",
        "plt.legend()\n",
        "plt.grid('off')\n",
        "plt.show()"
      ],
      "execution_count": null,
      "outputs": [
        {
          "output_type": "display_data",
          "data": {
            "image/png": "[encoded data removed]",
            "text/plain": [
              "<Figure size 432x288 with 1 Axes>"
            ]
          },
          "metadata": {
            "tags": [],
            "needs_background": "light"
          }
        }
      ]
    },
    {
      "cell_type": "code",
      "metadata": {
        "id": "qhmCvqLyV--z"
      },
      "source": [],
      "execution_count": null,
      "outputs": []
    }
  ]
}